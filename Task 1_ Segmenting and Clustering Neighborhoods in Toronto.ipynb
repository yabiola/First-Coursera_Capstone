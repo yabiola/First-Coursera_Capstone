{
 "cells": [
  {
   "cell_type": "markdown",
   "metadata": {},
   "source": [
    "# Task 1: Segmenting and Clustering Neighborhoods in Toronto\n",
    "##### Scrape a wikipedia page to obtain a tabular data of the postal codes in toronto and transform into a pandas dataframe.\n",
    "##### I used Beautiful Soup for web scraping as suggested."
   ]
  },
  {
   "cell_type": "code",
   "execution_count": 1,
   "metadata": {},
   "outputs": [],
   "source": [
    "import requests # library to handle requests\n",
    "import lxml.html as lh\n",
    "import bs4 as bs #library for web scraping\n",
    "import urllib.request\n",
    "import io\n",
    "import numpy as np # library to handle data in a vectorized manner\n",
    "import pandas as pd # library for data analsysis"
   ]
  },
  {
   "cell_type": "code",
   "execution_count": 2,
   "metadata": {},
   "outputs": [],
   "source": [
    "## wikipedia page URL\n",
    "url   = \"https://en.wikipedia.org/wiki/List_of_postal_codes_of_Canada:_M\""
   ]
  },
  {
   "cell_type": "code",
   "execution_count": 3,
   "metadata": {},
   "outputs": [],
   "source": [
    "# Using Beautiful Soup package for web scraping as suggested.\n",
    "# defining a function 'scrape_table_bs4' <tableClassName> <expected numberOfColumns>\n",
    "# -----------------------------------------------------\n",
    "def scrape_table_bs4(cname,cols):\n",
    "    page  = urllib.request.urlopen(url).read()\n",
    "    soup  = bs.BeautifulSoup(page,'lxml')\n",
    "    table = soup.find(\"table\",class_=cname)\n",
    "    header = [head.findAll(text=True)[0].strip() for head in table.find_all(\"th\")]\n",
    "    data   = [[td.findAll(text=True)[0].strip() for td in tr.find_all(\"td\")]\n",
    "              for tr in table.find_all(\"tr\")]\n",
    "    data    = [row for row in data if len(row) == cols]\n",
    "    # Store data to this temporary dataframe\n",
    "    raw_df = pd.DataFrame(data,columns=header)\n",
    "    return raw_df\n",
    "\n",
    "# -----------------------------------------------------\n",
    "# Parsing using xpath.\n",
    "# -----------------------------------------------------\n",
    "def scrape_table_lxml(XPATH,cols):\n",
    "    page = requests.get(url)\n",
    "    doc = lh.fromstring(page.content)\n",
    "    table_content = doc.xpath(XPATH)\n",
    "    for table in table_content:\n",
    "        headers = [th.text_content().strip() for th in table.xpath('//th')]\n",
    "        headers = headers[0:3]\n",
    "        data    = [[td.text_content().strip() for td in tr.xpath('td')] \n",
    "                   for tr in table.xpath('//tbody/tr')]\n",
    "        data    = [row for row in data if len(row) == cols]\n",
    "        raw_df = pd.DataFrame(data,columns=headers)\n",
    "        return raw_df"
   ]
  },
  {
   "cell_type": "code",
   "execution_count": 4,
   "metadata": {},
   "outputs": [],
   "source": [
    "#Test in beautifulSoup\n",
    "raw_TorontoPostalCodes = scrape_table_bs4(\"wikitable\",3)"
   ]
  },
  {
   "cell_type": "code",
   "execution_count": 5,
   "metadata": {},
   "outputs": [],
   "source": [
    "# Only process the cells that have an assigned borough. Ignore cells with a borough that is Not assigned.\n",
    "TorontoPostalCodes=raw_TorontoPostalCodes[~raw_TorontoPostalCodes['Borough'].isin(['Not assigned'])]\n",
    "\n",
    "# Sort and Reset index.\n",
    "TorontoPostalCodes=TorontoPostalCodes.sort_values(by=['Postal code','Borough','Neighborhood'], ascending=[1,1,1]).reset_index(drop=True)\n",
    "\n",
    "# -----------------------------------------------------\n",
    "TorontoPostalCodes.loc[TorontoPostalCodes['Neighborhood'] == 'Not assigned', ['Neighborhood']] = TorontoPostalCodes['Borough']\n",
    "check_unassigned_post_state_sample = TorontoPostalCodes.loc[TorontoPostalCodes['Borough'] == 'Queen\\'s Park']\n",
    "\n",
    "# -----------------------------------------------------\n",
    "TorontoPostalCodes = TorontoPostalCodes.groupby(['Postal code','Borough'])['Neighborhood'].apply(', '.join).reset_index()"
   ]
  },
  {
   "cell_type": "code",
   "execution_count": 6,
   "metadata": {},
   "outputs": [
    {
     "data": {
      "text/html": [
       "<div>\n",
       "<style scoped>\n",
       "    .dataframe tbody tr th:only-of-type {\n",
       "        vertical-align: middle;\n",
       "    }\n",
       "\n",
       "    .dataframe tbody tr th {\n",
       "        vertical-align: top;\n",
       "    }\n",
       "\n",
       "    .dataframe thead th {\n",
       "        text-align: right;\n",
       "    }\n",
       "</style>\n",
       "<table border=\"1\" class=\"dataframe\">\n",
       "  <thead>\n",
       "    <tr style=\"text-align: right;\">\n",
       "      <th></th>\n",
       "      <th>Postal code</th>\n",
       "      <th>Borough</th>\n",
       "      <th>Neighborhood</th>\n",
       "    </tr>\n",
       "  </thead>\n",
       "  <tbody>\n",
       "    <tr>\n",
       "      <th>0</th>\n",
       "      <td>M1B</td>\n",
       "      <td>Scarborough</td>\n",
       "      <td>Malvern / Rouge</td>\n",
       "    </tr>\n",
       "    <tr>\n",
       "      <th>1</th>\n",
       "      <td>M1C</td>\n",
       "      <td>Scarborough</td>\n",
       "      <td>Rouge Hill / Port Union / Highland Creek</td>\n",
       "    </tr>\n",
       "    <tr>\n",
       "      <th>2</th>\n",
       "      <td>M1E</td>\n",
       "      <td>Scarborough</td>\n",
       "      <td>Guildwood / Morningside / West Hill</td>\n",
       "    </tr>\n",
       "    <tr>\n",
       "      <th>3</th>\n",
       "      <td>M1G</td>\n",
       "      <td>Scarborough</td>\n",
       "      <td>Woburn</td>\n",
       "    </tr>\n",
       "    <tr>\n",
       "      <th>4</th>\n",
       "      <td>M1H</td>\n",
       "      <td>Scarborough</td>\n",
       "      <td>Cedarbrae</td>\n",
       "    </tr>\n",
       "  </tbody>\n",
       "</table>\n",
       "</div>"
      ],
      "text/plain": [
       "  Postal code      Borough                              Neighborhood\n",
       "0         M1B  Scarborough                           Malvern / Rouge\n",
       "1         M1C  Scarborough  Rouge Hill / Port Union / Highland Creek\n",
       "2         M1E  Scarborough       Guildwood / Morningside / West Hill\n",
       "3         M1G  Scarborough                                    Woburn\n",
       "4         M1H  Scarborough                                 Cedarbrae"
      ]
     },
     "execution_count": 6,
     "metadata": {},
     "output_type": "execute_result"
    }
   ],
   "source": [
    "TorontoPostalCodes.head()"
   ]
  },
  {
   "cell_type": "code",
   "execution_count": 8,
   "metadata": {},
   "outputs": [],
   "source": [
    "TorontoPostalCodes.to_csv('Toronto.TASK_1_df.csv',index=False)"
   ]
  },
  {
   "cell_type": "code",
   "execution_count": 7,
   "metadata": {},
   "outputs": [
    {
     "data": {
      "text/plain": [
       "(103, 3)"
      ]
     },
     "execution_count": 7,
     "metadata": {},
     "output_type": "execute_result"
    }
   ],
   "source": [
    "TorontoPostalCodes.shape"
   ]
  },
  {
   "cell_type": "code",
   "execution_count": null,
   "metadata": {},
   "outputs": [],
   "source": []
  }
 ],
 "metadata": {
  "kernelspec": {
   "display_name": "Python 3",
   "language": "python",
   "name": "python3"
  },
  "language_info": {
   "codemirror_mode": {
    "name": "ipython",
    "version": 3
   },
   "file_extension": ".py",
   "mimetype": "text/x-python",
   "name": "python",
   "nbconvert_exporter": "python",
   "pygments_lexer": "ipython3",
   "version": "3.7.3"
  }
 },
 "nbformat": 4,
 "nbformat_minor": 2
}
